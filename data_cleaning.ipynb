{
 "cells": [
  {
   "cell_type": "code",
   "execution_count": null,
   "id": "32b47a21",
   "metadata": {},
   "outputs": [],
   "source": [
    "import pandas as pd"
   ]
  },
  {
   "cell_type": "code",
   "execution_count": null,
   "id": "af0a0538",
   "metadata": {},
   "outputs": [],
   "source": [
    "# Load file\n",
    "file = \"total_vaccinations.csv\"\n",
    "\n",
    "# Read the csv into dataframe\n",
    "vax = pd.read_csv(file, skiprows=2)\n",
    "vax\n"
   ]
  },
  {
   "cell_type": "code",
   "execution_count": null,
   "id": "ffd7b728",
   "metadata": {},
   "outputs": [],
   "source": [
    "# Drop rows with NaN \n",
    "vax_states = vax.dropna(subset=['Total COVID-19 Vaccines Delivered'])\n"
   ]
  },
  {
   "cell_type": "code",
   "execution_count": null,
   "id": "c20c9d9b",
   "metadata": {},
   "outputs": [],
   "source": [
    "# Drop first and last 8 rows\n",
    "vax_clean = vax_states.drop([0, 52, 53, 54, 55, 56, 57, 58, 59])\n",
    "vax_clean"
   ]
  },
  {
   "cell_type": "code",
   "execution_count": null,
   "id": "8f1854a3",
   "metadata": {},
   "outputs": [],
   "source": [
    "vax_final = vax_clean.rename(columns={'Location': 'State', 'Total COVID-19 Vaccines Administered': 'Total_vaccines_administered', 'Number of People Who Have Been Vaccinated with At Least One Dose': 'Recipients_one_dose', 'Number of People Who Have Been Fully Vaccinated': 'Fully_vaccinated'})\n",
    "vax_final"
   ]
  },
  {
   "cell_type": "code",
   "execution_count": null,
   "id": "c9ad2950",
   "metadata": {},
   "outputs": [],
   "source": [
    "vax_final.to_csv('total_vaccinations_clean.csv')"
   ]
  },
  {
   "cell_type": "code",
   "execution_count": null,
   "id": "005db794",
   "metadata": {},
   "outputs": [],
   "source": [
    "# Load file\n",
    "file = \"COVID19_state.csv\"\n",
    "\n",
    "# Read the csv into dataframe\n",
    "covid = pd.read_csv(file)\n",
    "covid.set_index('State', inplace=True)"
   ]
  },
  {
   "cell_type": "code",
   "execution_count": null,
   "id": "f3bc2141",
   "metadata": {},
   "outputs": [],
   "source": [
    "# Drop unwanted columns \n",
    "cols = [0, 7, 8, 10, 11, 12, 13, 14, 19, 20, 21, 22, 23, 24]\n",
    "covid.drop(covid.columns[cols], axis=1, inplace=True)\n",
    "covid\n",
    "          "
   ]
  },
  {
   "cell_type": "code",
   "execution_count": null,
   "id": "5c3993d5",
   "metadata": {},
   "outputs": [],
   "source": [
    "# Remove spaces from column names\n",
    "clean_covid = covid.rename(columns={'Pop Density': 'pop_density', 'ICU Beds': 'ICU_beds', 'Health Spending': 'health_spending', 'Med-Large Airports': 'Med-large_airports'})\n",
    "clean_covid\n",
    "                                    \n",
    "                                    "
   ]
  },
  {
   "cell_type": "code",
   "execution_count": null,
   "id": "e7a4f86c",
   "metadata": {},
   "outputs": [],
   "source": [
    "# Save clean data to csv\n",
    "clean_covid.to_csv('COVID19_state_clean.csv')"
   ]
  },
  {
   "cell_type": "code",
   "execution_count": null,
   "id": "5c1b74a1",
   "metadata": {},
   "outputs": [],
   "source": []
  },
  {
   "cell_type": "code",
   "execution_count": null,
   "id": "069f6a0c",
   "metadata": {},
   "outputs": [],
   "source": []
  },
  {
   "cell_type": "code",
   "execution_count": null,
   "id": "41de6e24",
   "metadata": {},
   "outputs": [],
   "source": []
  }
 ],
 "metadata": {
  "kernelspec": {
   "display_name": "Python 3 (ipykernel)",
   "language": "python",
   "name": "python3"
  },
  "language_info": {
   "codemirror_mode": {
    "name": "ipython",
    "version": 3
   },
   "file_extension": ".py",
   "mimetype": "text/x-python",
   "name": "python",
   "nbconvert_exporter": "python",
   "pygments_lexer": "ipython3",
   "version": "3.10.6"
  }
 },
 "nbformat": 4,
 "nbformat_minor": 5
}
